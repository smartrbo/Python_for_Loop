{
 "cells": [
  {
   "cell_type": "code",
   "execution_count": 3,
   "id": "1b677d95-ec18-4082-9738-78caa6c6e1e7",
   "metadata": {},
   "outputs": [
    {
     "name": "stdout",
     "output_type": "stream",
     "text": [
      "1 2 3 4 5 6 7 8 9 10 "
     ]
    }
   ],
   "source": [
    "#Write a Python program to print the numbers from 1 to 10 using a `for` loop.\n",
    "for i in range(1,11):\n",
    "    print(i ,end=' ')"
   ]
  },
  {
   "cell_type": "code",
   "execution_count": 16,
   "id": "5443ec6f-eb18-47a3-9d46-c676db5a6d15",
   "metadata": {},
   "outputs": [
    {
     "name": "stdout",
     "output_type": "stream",
     "text": [
      "28\n"
     ]
    }
   ],
   "source": [
    "#Create a program that calculates the sum of all numbers in a list using a `for` loop.\n",
    "lis=[1,3,5,6,6,7]\n",
    "total=0\n",
    "for i in lis:\n",
    "    total+=i\n",
    "print(total)"
   ]
  },
  {
   "cell_type": "code",
   "execution_count": 46,
   "id": "855c2bb6-17b8-4f80-b192-c240e96eb375",
   "metadata": {},
   "outputs": [
    {
     "name": "stdout",
     "output_type": "stream",
     "text": [
      "skeegrofskeeG\n"
     ]
    }
   ],
   "source": [
    "#Write a program to print the characters of a string in reverse order using a `for` loop.\n",
    "s = \"Geeksforgeeks\"\n",
    "str = \"\"\n",
    "for i in s:\n",
    "    str = i + str\n",
    "print(str)"
   ]
  },
  {
   "cell_type": "code",
   "execution_count": 3,
   "id": "79fdf191-4342-41f9-9d20-afcb62b4a9c4",
   "metadata": {},
   "outputs": [
    {
     "name": "stdin",
     "output_type": "stream",
     "text": [
      "ENter the number:: 5\n"
     ]
    },
    {
     "name": "stdout",
     "output_type": "stream",
     "text": [
      "120\n"
     ]
    }
   ],
   "source": [
    "#Develop a program that finds the factorial of a given number using a `for` loop.\n",
    "num=int(input(\"ENter the number::\"))\n",
    "fact=1\n",
    "for i in range(1,num+1):\n",
    "    fact=fact*i\n",
    "print(fact)"
   ]
  },
  {
   "cell_type": "code",
   "execution_count": 5,
   "id": "3de73d3b-abc2-4fb1-bf33-68d764e7bd20",
   "metadata": {},
   "outputs": [
    {
     "name": "stdin",
     "output_type": "stream",
     "text": [
      "Enter the Number::: 5\n"
     ]
    },
    {
     "name": "stdout",
     "output_type": "stream",
     "text": [
      "5 X 1 = 5\n",
      "5 X 2 = 10\n",
      "5 X 3 = 15\n",
      "5 X 4 = 20\n",
      "5 X 5 = 25\n",
      "5 X 6 = 30\n",
      "5 X 7 = 35\n",
      "5 X 8 = 40\n",
      "5 X 9 = 45\n",
      "5 X 10 = 50\n"
     ]
    }
   ],
   "source": [
    "#Create a program to print the multiplication table of a given number using a `for` loop.\n",
    "table=int(input('Enter the Number:::'))\n",
    "for i in range(1,11):\n",
    "    print(table,'X',i,'=',table*i)\n"
   ]
  },
  {
   "cell_type": "code",
   "execution_count": 20,
   "id": "18ad0c60-b75f-49e8-a461-89b25a6270dd",
   "metadata": {},
   "outputs": [
    {
     "name": "stdout",
     "output_type": "stream",
     "text": [
      "5\n",
      "2\n"
     ]
    }
   ],
   "source": [
    "#Write a program that counts the number of even and odd numbers in a list using a `for` loop.\n",
    "num=[2,4,5,6,7,8,8]\n",
    "odd_count=0\n",
    "even_count=0\n",
    "for i in num:\n",
    "    if i%2==0:\n",
    "        even_count+=1\n",
    "    elif i%2!=0:\n",
    "        odd_count+=1\n",
    "print(even_count)\n",
    "print(odd_count)"
   ]
  },
  {
   "cell_type": "code",
   "execution_count": 26,
   "id": "52dc4254-9749-483e-9b09-19a69eb3fd13",
   "metadata": {},
   "outputs": [
    {
     "name": "stdout",
     "output_type": "stream",
     "text": [
      "1 = 1\n",
      "2 = 4\n",
      "3 = 9\n",
      "4 = 16\n",
      "5 = 25\n"
     ]
    }
   ],
   "source": [
    "#7. Develop a program that prints the squares of numbers from 1 to 5 using a `for` loop.\n",
    "for i in range(1,6):\n",
    "    print(i,'=',i**2)"
   ]
  },
  {
   "cell_type": "code",
   "execution_count": 27,
   "id": "0128ce8e-a613-48ca-bd45-4231efd403de",
   "metadata": {},
   "outputs": [
    {
     "name": "stdin",
     "output_type": "stream",
     "text": [
      "Enter the string: kunal Love Yukti\n"
     ]
    },
    {
     "name": "stdout",
     "output_type": "stream",
     "text": [
      "16\n"
     ]
    }
   ],
   "source": [
    "#8. Create a program to find the length of a string without using the `len()` function.\n",
    "l=input(\"Enter the string:\")\n",
    "count=0\n",
    "for i in l:\n",
    "    count+=1\n",
    "print(count)"
   ]
  },
  {
   "cell_type": "code",
   "execution_count": 39,
   "id": "4680643e-f3c4-40fe-8926-84e8f4942480",
   "metadata": {},
   "outputs": [
    {
     "name": "stdout",
     "output_type": "stream",
     "text": [
      "5.333333333333333\n"
     ]
    }
   ],
   "source": [
    "#9. Write a program that calculates the average of a list of numbers using a `for` loop.\n",
    "l=[aa]\n",
    "sum=0\n",
    "avarage=0\n",
    "for i in l:\n",
    "    sum+=i\n",
    "    avarage=sum/6\n",
    "print(avarage)"
   ]
  },
  {
   "cell_type": "code",
   "execution_count": 49,
   "id": "3ca44744-524a-4221-a2a6-435d5baf0f5d",
   "metadata": {},
   "outputs": [
    {
     "name": "stdin",
     "output_type": "stream",
     "text": [
      "Enter the Number: 5\n"
     ]
    },
    {
     "name": "stdout",
     "output_type": "stream",
     "text": [
      "[0, 1, 1, 2, 3]\n"
     ]
    }
   ],
   "source": [
    "#Develop a program that prints the first `n` Fibonacci numbers using a `for` loop.\n",
    "N=int(input('Enter the Number:'))\n",
    "fab=[0,1]             # it will start from 3 element..\n",
    "if N>2:\n",
    "    for i in range(2,N):\n",
    "        next_el=fab[i-1]+fab[i-2]   ##i-1+i-2 it will 0+1=1  ,, 1+1=2  ,,1+2=3\n",
    "        fab.append(next_el)\n",
    "print(fab)\n"
   ]
  },
  {
   "cell_type": "code",
   "execution_count": 5,
   "id": "9d633fdc-1a5c-43fa-8df9-3cd647e4c2c2",
   "metadata": {},
   "outputs": [
    {
     "name": "stdout",
     "output_type": "stream",
     "text": [
      "1 3 "
     ]
    }
   ],
   "source": [
    "#11. Write a program to check if a given list contains any duplicates using a `for` loop.\n",
    "l=[1,2,1,3,3]\n",
    "l1=[]\n",
    "for i in l:\n",
    "    if i not in l1:\n",
    "        l1.append(i)\n",
    "    else:\n",
    "            print(i,end=' ')"
   ]
  },
  {
   "cell_type": "code",
   "execution_count": 24,
   "id": "bf6df056-8634-4719-8750-4ca357bf6fd1",
   "metadata": {},
   "outputs": [
    {
     "name": "stdin",
     "output_type": "stream",
     "text": [
      "ENter the Number you want to start from:: 1\n",
      "Entert the Number you want till range:  10\n"
     ]
    },
    {
     "name": "stdout",
     "output_type": "stream",
     "text": [
      "2\n",
      "3\n",
      "5\n",
      "7\n"
     ]
    }
   ],
   "source": [
    "#12. Create a program that prints the prime numbers in a given range using a `for` loop.\n",
    "l=int(input('ENter the Number you want to start from::'))\n",
    "u=int(input('Entert the Number you want till range: '))\n",
    "for n in range(l,u+1):\n",
    "    if n > 1:\n",
    "        for i in range(2,n):\n",
    "            if (n%i)==0:\n",
    "                break\n",
    "        else:\n",
    "            print(n)"
   ]
  },
  {
   "cell_type": "code",
   "execution_count": 34,
   "id": "1000f8d7-ccbe-4676-9795-d8e18ec7308d",
   "metadata": {},
   "outputs": [
    {
     "name": "stdin",
     "output_type": "stream",
     "text": [
      "ENter the sentence: kunal appa yukti\n"
     ]
    },
    {
     "name": "stdout",
     "output_type": "stream",
     "text": [
      "6\n"
     ]
    }
   ],
   "source": [
    "#Develop a program that counts the number of vowels in a string using a `for` loop.\n",
    "vowels=\"aeiouAEIOU\"\n",
    "alpha=input('ENter the sentence:')\n",
    "count=0\n",
    "for letter in alpha:\n",
    "    if letter in vowels:\n",
    "        count+=1\n",
    "print(count)"
   ]
  },
  {
   "cell_type": "code",
   "execution_count": 4,
   "id": "35c25c9c-07a7-48dd-94c1-646dd689b2ed",
   "metadata": {},
   "outputs": [
    {
     "name": "stdout",
     "output_type": "stream",
     "text": [
      "512\n"
     ]
    }
   ],
   "source": [
    "#14. Write a program to find the maximum element in a 2D list using a nested `for` loop.\n",
    "l=[[188, 2, 3], [4, 512, 6]]\n",
    "m_element=l[0][0]\n",
    "for i in range(len(l)):                     #188 ==0  , 188 >2 , 188>3 ,188>4, 188>512, 512>6 =512 print\n",
    "    for j in range(len(l[0])):\n",
    "        if l[i][j]> m_element:\n",
    "            m_element=l[i][j]\n",
    "\n",
    "print(m_element)"
   ]
  },
  {
   "cell_type": "code",
   "execution_count": 1,
   "id": "20721c7c-bc02-449e-9c42-6e7e4d3cd22b",
   "metadata": {},
   "outputs": [],
   "source": [
    "#15. Create a program that removes all occurrences of a specific element from a list using a `for` loop.\n"
   ]
  },
  {
   "cell_type": "code",
   "execution_count": 4,
   "id": "3bb965c2-c774-40e1-8e9f-c52d51a90438",
   "metadata": {},
   "outputs": [
    {
     "name": "stdout",
     "output_type": "stream",
     "text": [
      "1 X 1 = 1\n",
      "1 X 2 = 2\n",
      "1 X 3 = 3\n",
      "1 X 4 = 4\n",
      "1 X 5 = 5\n",
      "1 X 6 = 6\n",
      "1 X 7 = 7\n",
      "1 X 8 = 8\n",
      "1 X 9 = 9\n",
      "1 X 10 = 10\n",
      "\n",
      "\n",
      "2 X 1 = 2\n",
      "2 X 2 = 4\n",
      "2 X 3 = 6\n",
      "2 X 4 = 8\n",
      "2 X 5 = 10\n",
      "2 X 6 = 12\n",
      "2 X 7 = 14\n",
      "2 X 8 = 16\n",
      "2 X 9 = 18\n",
      "2 X 10 = 20\n",
      "\n",
      "\n",
      "3 X 1 = 3\n",
      "3 X 2 = 6\n",
      "3 X 3 = 9\n",
      "3 X 4 = 12\n",
      "3 X 5 = 15\n",
      "3 X 6 = 18\n",
      "3 X 7 = 21\n",
      "3 X 8 = 24\n",
      "3 X 9 = 27\n",
      "3 X 10 = 30\n",
      "\n",
      "\n",
      "4 X 1 = 4\n",
      "4 X 2 = 8\n",
      "4 X 3 = 12\n",
      "4 X 4 = 16\n",
      "4 X 5 = 20\n",
      "4 X 6 = 24\n",
      "4 X 7 = 28\n",
      "4 X 8 = 32\n",
      "4 X 9 = 36\n",
      "4 X 10 = 40\n",
      "\n",
      "\n",
      "5 X 1 = 5\n",
      "5 X 2 = 10\n",
      "5 X 3 = 15\n",
      "5 X 4 = 20\n",
      "5 X 5 = 25\n",
      "5 X 6 = 30\n",
      "5 X 7 = 35\n",
      "5 X 8 = 40\n",
      "5 X 9 = 45\n",
      "5 X 10 = 50\n",
      "\n",
      "\n"
     ]
    }
   ],
   "source": [
    "#Develop a program that generates a multiplication table for numbers from 1 to 5 using a nested `for` loop.\n",
    "rows=5\n",
    "columns=10 \n",
    "for i in range(1,rows+1):\n",
    "    for j in range(1,columns+1):# inner for loop\n",
    "        c=i*j\n",
    "        print(i,'X',j,'=',format(c))\n",
    "    print(\"\\n\") "
   ]
  },
  {
   "cell_type": "code",
   "execution_count": 10,
   "id": "14244467-bbc2-46f0-99ca-2036fb2c3abf",
   "metadata": {},
   "outputs": [
    {
     "name": "stdout",
     "output_type": "stream",
     "text": [
      "37.0\n",
      "36.55555555555556\n",
      "37.888888888888886\n",
      "35.72222222222222\n",
      "39.27777777777778\n"
     ]
    }
   ],
   "source": [
    "#Write a program that converts a list of Fahrenheit temperatures to Celsius using a `for` loop.\n",
    "l=[98.6,97.8,100.2,96.3,102.7]\n",
    "for i in l:\n",
    "    c=((i-32)*5)/9\n",
    "    print(c)"
   ]
  },
  {
   "cell_type": "code",
   "execution_count": 13,
   "id": "3767209c-3670-4c67-93f6-12e7bd364973",
   "metadata": {},
   "outputs": [
    {
     "name": "stdout",
     "output_type": "stream",
     "text": [
      "1\n",
      "3\n",
      "4\n",
      "8\n"
     ]
    }
   ],
   "source": [
    "#Create a program to print the common elements from two lists using a `for` loop.\n",
    "l=[1,3,4,6,8]\n",
    "p=[1,2,3,4,8]\n",
    "for i in l:\n",
    "    for j in p:\n",
    "        if i==j:\n",
    "            print(j)"
   ]
  },
  {
   "cell_type": "code",
   "execution_count": 14,
   "id": "38184755-c907-4298-8793-768e92a5a3b3",
   "metadata": {},
   "outputs": [
    {
     "name": "stdout",
     "output_type": "stream",
     "text": [
      "* \n",
      "* * \n",
      "* * * \n",
      "* * * * \n",
      "* * * * * \n",
      "* * * * * * \n",
      "* * * * * * * \n",
      "* * * * * * * * \n"
     ]
    }
   ],
   "source": [
    "#Develop a program that prints the pattern of right-angled triangles using a `for` loop. Use ‘*’ to draw the pattern\n",
    "for i in range(i):\n",
    "    for j in range(i+1):\n",
    "        print(\"*\",end=' ')\n",
    "    print()"
   ]
  },
  {
   "cell_type": "code",
   "execution_count": 4,
   "id": "7292b60d-e053-4935-a697-87fb35614f0f",
   "metadata": {},
   "outputs": [
    {
     "name": "stdin",
     "output_type": "stream",
     "text": [
      "Enter the first number: 50\n",
      "Enter the second number: 100\n"
     ]
    },
    {
     "name": "stdout",
     "output_type": "stream",
     "text": [
      "50\n"
     ]
    }
   ],
   "source": [
    "#Write a program to find the greatest common divisor (GCD) of two numbers using a `for` loop.\n",
    "x = int(input('Enter the first number:'))\n",
    "y = int(input('Enter the second number:'))\n",
    "n = min(x,y)\n",
    "h=0\n",
    "for i in range(1,n+1):\n",
    "    if x%i==0 and y%i==0:\n",
    "        h=i\n",
    "print(h) \n",
    "        \n",
    "    \n",
    "    "
   ]
  },
  {
   "cell_type": "code",
   "execution_count": 11,
   "id": "42d80372-9553-4799-8640-dc8646e2a73b",
   "metadata": {},
   "outputs": [
    {
     "name": "stdout",
     "output_type": "stream",
     "text": [
      "37\n"
     ]
    }
   ],
   "source": [
    "#Create a program that calculates the sum of the digits of numbers in a list using a list comprehension.\n",
    "l=[1,2,3,4,5,6,7,9]\n",
    "total=0\n",
    "p=[total:=total+i for i in l]\n",
    "print(total)\n"
   ]
  },
  {
   "cell_type": "code",
   "execution_count": 10,
   "id": "9f1a0215-dfaa-4b8a-ad15-37493eb163c3",
   "metadata": {},
   "outputs": [
    {
     "name": "stdin",
     "output_type": "stream",
     "text": [
      "Enter the number 10\n"
     ]
    },
    {
     "name": "stdout",
     "output_type": "stream",
     "text": [
      "[2, 10]\n"
     ]
    }
   ],
   "source": [
    "#Write a program to find the prime factors of a given number using a `for` loop and list comprehension.\n",
    "n=int(input('Enter the number'))\n",
    "factors = [i for i in range(2, int(n**0.5) + 1) if n % i == 0]\n",
    "if n > 1 and n not in factors:\n",
    "    factors.append(n)\n",
    "print(factors)"
   ]
  },
  {
   "cell_type": "code",
   "execution_count": 51,
   "id": "25f90bfe-1c30-4fd4-b272-f0721808663b",
   "metadata": {},
   "outputs": [
    {
     "name": "stdout",
     "output_type": "stream",
     "text": [
      "unique List [2]\n"
     ]
    }
   ],
   "source": [
    "#Develop a program that extracts unique elements from a list and stores them in a new list using a list comprehension\n",
    "first_list=[5,2,7,7,5]\n",
    "unique=[i for i in first_list if first_list.count(i)==1]\n",
    "print('unique List',unique)"
   ]
  },
  {
   "cell_type": "code",
   "execution_count": 58,
   "id": "bceac50a-6c94-4f61-96c2-8a2d07e44097",
   "metadata": {},
   "outputs": [
    {
     "name": "stdin",
     "output_type": "stream",
     "text": [
      "Enter The limit to generates a list of all palindromic numbers up to a specified limit: 100\n"
     ]
    },
    {
     "name": "stdout",
     "output_type": "stream",
     "text": [
      "\n",
      " palindromic number is [0, 1, 2, 3, 4, 5, 6, 7, 8, 9, 11, 22, 33, 44, 55, 66, 77, 88, 99]\n"
     ]
    }
   ],
   "source": [
    "#Create a program that generates a list of all palindromic numbers up to a specified limit using a list comprehension.\n",
    "limit=int(input('Enter The limit to generates a list of all palindromic numbers up to a specified limit:'))\n",
    "l=[i for i in range(limit+1) if str(i)==str(i)[::-1]]\n",
    "print('\\n palindromic number is',l)"
   ]
  },
  {
   "cell_type": "code",
   "execution_count": 65,
   "id": "e035eb13-d1be-42e3-aa72-62c0353f4b0f",
   "metadata": {},
   "outputs": [
    {
     "name": "stdout",
     "output_type": "stream",
     "text": [
      "flatten a nested list  [1, 2, 3, 4, 5, 6, 3, 4, 5]\n"
     ]
    }
   ],
   "source": [
    "#Write a program to flatten a nested list using list comprehension.\n",
    "li=[[1,2,3],[4,5,6],[3,4,5]]\n",
    "p=[i for flatten in li for i in flatten ]\n",
    "print('flatten a nested list ',p)"
   ]
  },
  {
   "cell_type": "code",
   "execution_count": 83,
   "id": "6f175d7c-4982-4001-842b-3cc693d45de9",
   "metadata": {},
   "outputs": [
    {
     "name": "stdout",
     "output_type": "stream",
     "text": [
      "Even Number 20\n",
      "Odd Number 25\n"
     ]
    }
   ],
   "source": [
    "#Develop a program that computes the sum of even and odd numbers in a list separately using list comprehension.\n",
    "li=[1,2,3,4,5,6,7,8,9]\n",
    "even_list=lambda a:sum([i for i in a  if i%2==0 ])\n",
    "odd_list=lambda a:sum([i for i in a  if i%2!=0 ])\n",
    "print('Even Number',even_list(li))\n",
    "print('Odd Number',odd_list(li))"
   ]
  },
  {
   "cell_type": "code",
   "execution_count": 105,
   "id": "22d3e1bc-02ca-4267-9479-f761ee78e2de",
   "metadata": {},
   "outputs": [
    {
     "name": "stdout",
     "output_type": "stream",
     "text": [
      "[1, 9, 25, 49, 81]\n"
     ]
    }
   ],
   "source": [
    "#27. Create a program that generates a list of squares of odd numbers between 1 and 10 using list comprehension.\n",
    "lis=[1,2,3,4,5,6,7,8,9,10]\n",
    "odd_number=lambda a:([i**2 for i in a if i%2!=0 ])\n",
    "print(odd_number(lis))"
   ]
  },
  {
   "cell_type": "code",
   "execution_count": 114,
   "id": "16161c12-82f2-406c-aaf7-02cd4a34a039",
   "metadata": {},
   "outputs": [
    {
     "name": "stdout",
     "output_type": "stream",
     "text": [
      "{'a': 2, 'b': 5, 'c': 8, 'd': 5}\n"
     ]
    }
   ],
   "source": [
    "# Write a program that combines two lists into a dictionary using list comprehension.\n",
    "first_lis=['a','b','c','d']\n",
    "second_lis=[2,5,8,5]\n",
    "f={first_lis[i]: second_lis[i] for i in range(min(len(first_lis),len(second_lis)))}\n",
    "print(f)\n"
   ]
  },
  {
   "cell_type": "code",
   "execution_count": 117,
   "id": "78712b02-090e-4962-b4d1-c46a68ba389a",
   "metadata": {},
   "outputs": [
    {
     "name": "stdin",
     "output_type": "stream",
     "text": [
      "Enter the string: kunal\n"
     ]
    },
    {
     "name": "stdout",
     "output_type": "stream",
     "text": [
      "['u', 'a']\n"
     ]
    }
   ],
   "source": [
    "# 29. Develop a program that extracts the vowels from a string and stores them in a list using list comprehension.\n",
    "string=input('Enter the string:')\n",
    "p=[i for i in string if i in 'AEIOUaeiou']\n",
    "print(p)"
   ]
  },
  {
   "cell_type": "code",
   "execution_count": 125,
   "id": "babec830-db9c-40a2-8201-f424df8ed428",
   "metadata": {},
   "outputs": [
    {
     "name": "stdout",
     "output_type": "stream",
     "text": [
      "['123', '1', '34']\n"
     ]
    }
   ],
   "source": [
    "#Create a program that removes all non-numeric characters from a list of strings using list comprehension.\n",
    "lis=['kumal123','1kun','yukti34']\n",
    "l=[''.join(i for i in lis if i.isdigit()) for lis in lis]\n",
    "print(l)\n"
   ]
  },
  {
   "cell_type": "code",
   "execution_count": 19,
   "id": "80b88216-b9d8-4b7a-a41d-732dcf3d94dc",
   "metadata": {},
   "outputs": [
    {
     "name": "stdout",
     "output_type": "stream",
     "text": [
      "[2, 3, 5, 7, 11, 13, 17, 19, 23, 29, 31, 37, 41, 43, 47, 53, 59, 61, 67, 71, 73, 79, 83, 89, 97]\n"
     ]
    }
   ],
   "source": [
    "# 31 Write a program to generate a list of prime numbers using the Sieve of Eratosthenes algorithm and listcomprehension.\n",
    "n = 100\n",
    "prime_list = [i for i in range(2, n+1) if i not in prime_list and all(i % j != 0 for j in range(2, int(i**0.5) + 1))]\n",
    "print(prime_list)\n"
   ]
  },
  {
   "cell_type": "code",
   "execution_count": 28,
   "id": "e55bfd25-8d72-415f-8678-77135bd0c66d",
   "metadata": {},
   "outputs": [
    {
     "name": "stdin",
     "output_type": "stream",
     "text": [
      "Enter the limit:  100\n"
     ]
    },
    {
     "name": "stdout",
     "output_type": "stream",
     "text": [
      "[[3, 4, 5], [5, 12, 13], [6, 8, 10], [7, 24, 25], [8, 15, 17], [9, 12, 15], [9, 40, 41], [10, 24, 26], [11, 60, 61], [12, 16, 20], [12, 35, 37], [13, 84, 85], [14, 48, 50], [15, 20, 25], [15, 36, 39], [16, 30, 34], [16, 63, 65], [18, 24, 30], [18, 80, 82], [20, 21, 29], [20, 48, 52], [21, 28, 35], [21, 72, 75], [24, 32, 40], [24, 45, 51], [24, 70, 74], [25, 60, 65], [27, 36, 45], [28, 45, 53], [28, 96, 100], [30, 40, 50], [30, 72, 78], [32, 60, 68], [33, 44, 55], [33, 56, 65], [35, 84, 91], [36, 48, 60], [36, 77, 85], [39, 52, 65], [39, 80, 89], [40, 42, 58], [40, 75, 85], [42, 56, 70], [45, 60, 75], [48, 55, 73], [48, 64, 80], [51, 68, 85], [54, 72, 90], [57, 76, 95], [60, 63, 87], [60, 80, 100], [65, 72, 97]]\n"
     ]
    }
   ],
   "source": [
    "# 32. Create a program that generates a list of all Pythagorean triplets up to a specified limit using list comprehension.\n",
    "limit = int(input(\"Enter the limit: \"))\n",
    "p=[[a, b, c] for a in range(1, limit + 1) for b in range(a, limit + 1) for c in range(b, limit + 1) if (a * a + b * b == c * c)]\n",
    "print(p)\n"
   ]
  },
  {
   "cell_type": "code",
   "execution_count": 17,
   "id": "7bb18251-8d68-452a-85b0-13e3deb3b887",
   "metadata": {},
   "outputs": [
    {
     "name": "stdout",
     "output_type": "stream",
     "text": [
      "[('a', 1), ('a', 2), ('a', 4), ('a', 5), ('b', 1), ('b', 2), ('b', 4), ('b', 5)]\n"
     ]
    }
   ],
   "source": [
    "#33. Develop a program that generates a list of all possible combinations of two lists using list comprehension.\n",
    "l1=['a','b']\n",
    "l2=[1,2,4,5]\n",
    "com=[(x,y) for x in l1 for y in l2]\n",
    "print(com)"
   ]
  },
  {
   "cell_type": "code",
   "execution_count": 25,
   "id": "0c713ee1-32c7-4ea8-bba8-d12856cde217",
   "metadata": {},
   "outputs": [
    {
     "name": "stdout",
     "output_type": "stream",
     "text": [
      "Mean: 3.0\n",
      "Median: 3\n",
      "Mode: 1\n"
     ]
    }
   ],
   "source": [
    "#34. Write a program that calculates the mean, median, and mode of a list of numbers using list comprehension.\n",
    "data = [1, 2, 3, 4, 5]\n",
    "# mean = sum[(data) / len(data)]\n",
    "# median = sorted(data)[len(data) // 2]\n",
    "# mode = max(data, key=data.count)\n",
    "# print(\"Mean:\", mean)\n",
    "# print(\"Median:\", median)\n",
    "# print(\"Mode:\", mode)\n",
    "mean = sum([element for element in data]) / len(data)\n",
    "median = sorted(data)[len(data) // 2]\n",
    "mode = max(data, key=lambda x: data.count(x))\n",
    "print(\"Mean:\", mean)\n",
    "print(\"Median:\", median)\n",
    "print(\"Mode:\", mode)\n"
   ]
  },
  {
   "cell_type": "code",
   "execution_count": 16,
   "id": "82a96ac8-9398-4e04-8827-77747e32c37c",
   "metadata": {},
   "outputs": [
    {
     "name": "stdin",
     "output_type": "stream",
     "text": [
      "Enter the number of rows: 5\n"
     ]
    },
    {
     "name": "stdout",
     "output_type": "stream",
     "text": [
      "     1\n",
      "    1 1\n",
      "   1 2 1\n",
      "  1 3 3 1\n",
      " 1 4 6 4 1\n"
     ]
    }
   ],
   "source": [
    "# 35. Create a program that generates Pascal's triangle up to a specified number of rows using list comprehension.\n",
    "# n = int(input(\"Enter the number of rows:\"))  \n",
    "# for i in range(n):  \n",
    "#     print(' '*(n-i), end='')  \n",
    "#     print(' '.join(map(str, str(11**i))))  \n",
    "n = int(input(\"Enter the number of rows:\"))\n",
    "output = [' ' * (n - i) + ' '.join(map(str, str(11**i))) for i in range(n)]\n",
    "print('\\n'.join(output))\n"
   ]
  },
  {
   "cell_type": "code",
   "execution_count": 1,
   "id": "1277a7a6-39c7-4416-a66b-62267212f47b",
   "metadata": {},
   "outputs": [
    {
     "name": "stdout",
     "output_type": "stream",
     "text": [
      "Sum of digits of factorials for numbers 1 to 5: [1, 2, 6, 6, 3]\n"
     ]
    }
   ],
   "source": [
    "#36. Develop a program that calculates the sum of the digits of a factorial of numbers from 1 to 5 using list comprehension.\n",
    "factorial = lambda n: 1 if n == 0 or n == 1 else n * factorial(n - 1)\n",
    "sum_of_digits = lambda num: sum(int(digit) for digit in str(num))\n",
    "sum_of_digits_factorials = [sum_of_digits(factorial(i)) for i in range(1, 6)]\n",
    "print(\"Sum of digits of factorials for numbers 1 to 5:\", sum_of_digits_factorials)"
   ]
  },
  {
   "cell_type": "code",
   "execution_count": 4,
   "id": "e322e8d3-ee1d-4790-86f4-7e595d3074e0",
   "metadata": {},
   "outputs": [
    {
     "name": "stdout",
     "output_type": "stream",
     "text": [
      "Longest word(s): ['kunal']\n"
     ]
    }
   ],
   "source": [
    "#37. Write a program that finds the longest word in a sentence using list comprehension.\n",
    "sentence = \"hi kunal here how are you done yuks\"\n",
    "words = sentence.split()\n",
    "longest_words = [word for word in words if len(word) == max(len(word) for word in words)]\n",
    "print(\"Longest word(s):\", longest_words)\n"
   ]
  },
  {
   "cell_type": "code",
   "execution_count": 4,
   "id": "79ae5dea-f23d-441f-8416-20d35183cccf",
   "metadata": {},
   "outputs": [
    {
     "name": "stdout",
     "output_type": "stream",
     "text": [
      "['yuksaeiou', 'yukskunalkunal']\n"
     ]
    }
   ],
   "source": [
    "#38. Create a program that filters a list of strings to include only those with more than three vowels using list comprehension.\n",
    "words = [\"kunal\", \"yukti\", \"appa\", \"is\", \"a\", \"yuksaeiou\", \"love\",\"kunal\",'yukskunalkunal']\n",
    "vowels_ = [word for word in words if sum(letter in \"aeiou\" for letter in word) > 3]\n",
    "print(vowels_)\n"
   ]
  },
  {
   "cell_type": "code",
   "execution_count": 6,
   "id": "73c90b6d-2c42-4d96-a92b-c82ab357020a",
   "metadata": {},
   "outputs": [
    {
     "name": "stdout",
     "output_type": "stream",
     "text": [
      "13501\n"
     ]
    }
   ],
   "source": [
    "#39. Develop a program that calculates the sum of the digits of numbers from 1 to 1000 using list comprehension.\n",
    "numbers = range(1, 1001)\n",
    "sum_of_digits = sum([sum(int(digit) for digit in str(number)) for number in numbers])\n",
    "print(sum_of_digits)\n"
   ]
  },
  {
   "cell_type": "code",
   "execution_count": 1,
   "id": "7f13daab-bec1-490a-a1b9-4282c9281206",
   "metadata": {},
   "outputs": [
    {
     "name": "stdout",
     "output_type": "stream",
     "text": [
      "[0, 1, 4, 6, 8, 9, 22, 33, 44, 55, 66, 77, 88, 99, 111, 121, 141, 161, 171, 202, 212, 222, 232, 242, 252, 262, 272, 282, 292, 303, 323, 333, 343, 363, 393, 404, 414, 424, 434, 444, 454, 464, 474, 484, 494, 505, 515, 525, 535, 545, 555, 565, 575, 585, 595, 606, 616, 626, 636, 646, 656, 666, 676, 686, 696, 707, 717, 737, 747, 767, 777, 808, 818, 828, 838, 848, 858, 868, 878, 888, 898, 909, 939, 949, 959, 969, 979, 989, 999]\n"
     ]
    }
   ],
   "source": [
    "#40. Write a program that generates a list of prime palindromic numbers using list comprehension.\n",
    "p=([x for x in range(1000) if (x <= 1 or any(x % i == 0 for i in range(2, int(x**0.5) + 1))) and str(x) == str(x)[::-1]])\n",
    "print(p)"
   ]
  },
  {
   "cell_type": "code",
   "execution_count": null,
   "id": "91b2950b-27e8-4937-9a14-ed363d8b3f77",
   "metadata": {},
   "outputs": [],
   "source": []
  }
 ],
 "metadata": {
  "kernelspec": {
   "display_name": "Python 3 (ipykernel)",
   "language": "python",
   "name": "python3"
  },
  "language_info": {
   "codemirror_mode": {
    "name": "ipython",
    "version": 3
   },
   "file_extension": ".py",
   "mimetype": "text/x-python",
   "name": "python",
   "nbconvert_exporter": "python",
   "pygments_lexer": "ipython3",
   "version": "3.10.8"
  }
 },
 "nbformat": 4,
 "nbformat_minor": 5
}
